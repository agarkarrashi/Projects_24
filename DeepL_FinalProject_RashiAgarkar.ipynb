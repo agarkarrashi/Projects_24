{
  "cells": [
    {
      "cell_type": "markdown",
      "metadata": {
        "id": "FDoJNAAagz8Z"
      },
      "source": [
        "###About the Dataset\n",
        "Context:\n",
        "\n",
        "Melbourne real estate is BOOMING. Can you find the insight or predict the next big trend to become a real estate mogul… or even harder, to snap up a reasonably priced 2-bedroom unit?\n",
        "\n",
        "Content:\n",
        "\n",
        "This is a snapshot of a dataset created by Tony Pino.\n",
        "It was scraped from publicly available results posted every week from Domain.com.au. He cleaned it well, and now it's up to you to make data analysis magic. The dataset includes Address, Type of Real estate, Suburb, Method of Selling, Rooms, Price, Real Estate Agent, Date of Sale and distance from C.B.D."
      ]
    },
    {
      "cell_type": "code",
      "execution_count": null,
      "metadata": {
        "id": "vfJeVpoPfbVJ"
      },
      "outputs": [],
      "source": [
        "import torch\n",
        "import pandas as pd\n",
        "import numpy as np\n",
        "import torch.nn as nn\n",
        "from sklearn.model_selection import train_test_split\n",
        "from sklearn.metrics import r2_score, mean_squared_error as mse\n",
        "from sklearn.preprocessing import MinMaxScaler\n",
        "\n",
        "import tensorflow as tf\n",
        "import datetime"
      ]
    },
    {
      "cell_type": "code",
      "execution_count": null,
      "metadata": {
        "id": "90IS7machT76"
      },
      "outputs": [],
      "source": [
        "df = pd.read_csv('/content/melb_data.csv')\n",
        "df.head()"
      ]
    },
    {
      "cell_type": "code",
      "execution_count": null,
      "metadata": {
        "id": "gP8_D4dKfdnQ"
      },
      "outputs": [],
      "source": [
        "from sklearn.preprocessing import LabelEncoder\n",
        "categorical_cols = df.select_dtypes(include=['object']).columns\n",
        "for col in categorical_cols:\n",
        "    le = LabelEncoder()\n",
        "    df[col] = le.fit_transform(df[col])"
      ]
    },
    {
      "cell_type": "code",
      "execution_count": null,
      "metadata": {
        "id": "NR7bFsD6TrpO"
      },
      "outputs": [],
      "source": [
        "df.fillna(df.median(numeric_only=True), inplace=True)\n",
        "\n",
        "# Fill missing values for the 'CouncilArea' column with the mode\n",
        "mode_council = df['CouncilArea'].mode()[0]\n",
        "df['CouncilArea'].fillna(mode_council, inplace=True)"
      ]
    },
    {
      "cell_type": "code",
      "execution_count": null,
      "metadata": {
        "id": "tRQR-j_Ahk6f"
      },
      "outputs": [],
      "source": [
        "\n",
        "X = df.drop(columns=['Price'])\n",
        "y = df['Price'].values\n",
        "\n",
        "X_train, X_test, y_train, y_test = train_test_split(X, y, test_size=0.3, random_state=24)"
      ]
    },
    {
      "cell_type": "code",
      "execution_count": null,
      "metadata": {
        "id": "o_65PV0qRRU5"
      },
      "outputs": [],
      "source": [
        "scaler = MinMaxScaler()\n",
        "scalerY = MinMaxScaler()\n",
        "\n",
        "y_train = scalerY.fit_transform(y_train.reshape(-1, 1))\n",
        "X_train = scaler.fit_transform(X_train)\n",
        "y_test = scalerY.transform(y_test.reshape(-1, 1))\n",
        "X_test = scaler.transform(X_test)"
      ]
    },
    {
      "cell_type": "code",
      "execution_count": null,
      "metadata": {
        "id": "lhAWQm3mllSv"
      },
      "outputs": [],
      "source": [
        "X_torch = torch.from_numpy(X_train)\n",
        "y_torch = torch.from_numpy(y_train)\n",
        "print(X_torch.size())\n",
        "print(y_torch.size())"
      ]
    },
    {
      "cell_type": "code",
      "execution_count": null,
      "metadata": {
        "id": "II0Ubzh8mzU7"
      },
      "outputs": [],
      "source": [
        "torch.manual_seed(24)\n",
        "# Create a model\n",
        "model = nn.Sequential(\n",
        "    nn.Linear(in_features=X_train.shape[1], out_features=14),\n",
        "    nn.ReLU(),\n",
        "    nn.Linear(14, 10),\n",
        "    nn.ReLU(),\n",
        "    nn.Linear(10, 1))"
      ]
    },
    {
      "cell_type": "code",
      "execution_count": null,
      "metadata": {
        "id": "IG343_3E7_D2"
      },
      "outputs": [],
      "source": [
        "criterion = torch.nn.MSELoss()\n",
        "# Construct the optimizer (Stochastic Gradient Descent in this case)\n",
        "optimizer = torch.optim.RMSprop(model.parameters(), lr = 0.1)\n",
        "optimizer"
      ]
    },
    {
      "cell_type": "code",
      "execution_count": null,
      "metadata": {
        "id": "_OuUPdSp8SIo"
      },
      "outputs": [],
      "source": [
        "model"
      ]
    },
    {
      "cell_type": "code",
      "execution_count": null,
      "metadata": {
        "id": "Dko5Qzk59uiI"
      },
      "outputs": [],
      "source": [
        "y_pred = model(X_torch.float())\n",
        "y_torch = y_torch.unsqueeze(1)\n",
        "print(y_torch.shape)\n",
        "print(y_pred.shape)"
      ]
    },
    {
      "cell_type": "code",
      "execution_count": null,
      "metadata": {
        "id": "mKEXzy6J-Bax"
      },
      "outputs": [],
      "source": [
        "# Gradient Descent\n",
        "\n",
        "for epoch in np.arange(0,1000):\n",
        "   # Forward pass: Compute predicted y by passing x to the model\n",
        "   y_pred = model(X_torch.float())\n",
        "\n",
        "   # Compute and print loss\n",
        "   loss = criterion(y_pred, y_torch.float())\n",
        "   #print('epoch: ', epoch+1,' loss: ', loss.item())\n",
        "\n",
        "   # Zero gradients, perform a backward pass, and update the weights.\n",
        "   optimizer.zero_grad()\n",
        "\n",
        "   # perform a backward pass (backpropagation)\n",
        "   loss.backward()\n",
        "\n",
        "   # Update the parameters\n",
        "   optimizer.step()\n",
        "   if epoch % 100 == 0:\n",
        "       print('epoch: ', epoch+1,' loss: ', loss.item())"
      ]
    },
    {
      "cell_type": "code",
      "execution_count": null,
      "metadata": {
        "id": "u6QfE8oV-VtB"
      },
      "outputs": [],
      "source": [
        "#model = model.eval()\n",
        "X_torch_test = torch.from_numpy(X_test)\n",
        "y_pred = model(X_torch_test.float())\n",
        "y_pred = y_pred.detach().numpy()"
      ]
    },
    {
      "cell_type": "code",
      "execution_count": null,
      "metadata": {
        "id": "XqzT_Um98JLw"
      },
      "outputs": [],
      "source": [
        "y_pred = y_pred.reshape(-1, 1)\n",
        "y_pred_orig = scalerY.inverse_transform(y_pred)\n",
        "\n",
        "print(y_pred_orig[:5])"
      ]
    },
    {
      "cell_type": "code",
      "execution_count": null,
      "metadata": {
        "id": "dHcJvcLN8brT"
      },
      "outputs": [],
      "source": [
        "print(y_test[:5])"
      ]
    },
    {
      "cell_type": "code",
      "source": [
        "print(f\"Shape of y_pred_orig: {y_pred_orig.shape}\")\n",
        "print(f\"Shape of y_test: {y_test.shape}\")"
      ],
      "metadata": {
        "id": "z0-Uagt9UV7X"
      },
      "execution_count": null,
      "outputs": []
    },
    {
      "cell_type": "code",
      "source": [],
      "metadata": {
        "id": "Aoqvw65qYDzC"
      },
      "execution_count": null,
      "outputs": []
    },
    {
      "cell_type": "code",
      "source": [
        "from sklearn.metrics import mean_squared_error, mean_absolute_error, r2_score\n",
        "\n",
        "mse_value = mean_squared_error(y_test, y_pred_orig)\n",
        "mae_value = mean_absolute_error(y_test, y_pred_orig)\n",
        "r2_value = r2_score(y_test, y_pred_orig)"
      ],
      "metadata": {
        "id": "3HjJWkpfUgCC"
      },
      "execution_count": null,
      "outputs": []
    },
    {
      "cell_type": "code",
      "source": [
        "print(f\"MSE: {mse_value}\")\n",
        "print(f\"MAE: {mae_value}\")\n",
        "print(f\"R2: {r2_value}\")"
      ],
      "metadata": {
        "id": "ekzYNuqINtL4"
      },
      "execution_count": null,
      "outputs": []
    },
    {
      "cell_type": "code",
      "execution_count": null,
      "metadata": {
        "id": "hBSkdCBeUx7o"
      },
      "outputs": [],
      "source": []
    },
    {
      "cell_type": "markdown",
      "metadata": {
        "id": "xHxYrBK5UxX_"
      },
      "source": [
        "##TenserFlow"
      ]
    },
    {
      "cell_type": "code",
      "execution_count": null,
      "metadata": {
        "id": "1z1cSC1RU0Bv"
      },
      "outputs": [],
      "source": [
        "df = pd.read_csv('/content/melb_data.csv')\n",
        "df.head()"
      ]
    },
    {
      "cell_type": "code",
      "source": [
        "from sklearn.preprocessing import LabelEncoder\n",
        "categorical_cols = df.select_dtypes(include=['object']).columns\n",
        "for col in categorical_cols:\n",
        "    le = LabelEncoder()\n",
        "    df[col] = le.fit_transform(df[col])"
      ],
      "metadata": {
        "id": "9_MSOWB-FEQq"
      },
      "execution_count": null,
      "outputs": []
    },
    {
      "cell_type": "code",
      "execution_count": null,
      "metadata": {
        "id": "kFuTCvrUZJmq"
      },
      "outputs": [],
      "source": [
        "df.fillna(df.median(numeric_only=True), inplace=True)\n",
        "\n",
        "# Fill missing values for the 'CouncilArea' column with the mode\n",
        "mode_council = df['CouncilArea'].mode()[0]\n",
        "df['CouncilArea'].fillna(mode_council, inplace=True)"
      ]
    },
    {
      "cell_type": "code",
      "execution_count": null,
      "metadata": {
        "id": "eneWSSNXVTHv"
      },
      "outputs": [],
      "source": [
        "df.shape"
      ]
    },
    {
      "cell_type": "code",
      "execution_count": null,
      "metadata": {
        "id": "Lovt9gNGVMDR"
      },
      "outputs": [],
      "source": [
        "X = df.drop('Price', axis=1)\n",
        "y = df['Price']"
      ]
    },
    {
      "cell_type": "code",
      "execution_count": null,
      "metadata": {
        "id": "akaGh4U5VUUY"
      },
      "outputs": [],
      "source": [
        "X.columns"
      ]
    },
    {
      "cell_type": "code",
      "execution_count": null,
      "metadata": {
        "id": "8qsXWjwHVaIK"
      },
      "outputs": [],
      "source": [
        "y.head()"
      ]
    },
    {
      "cell_type": "code",
      "execution_count": null,
      "metadata": {
        "id": "N8ixnXj8VbVH"
      },
      "outputs": [],
      "source": [
        "X_train, X_test, y_train, y_test = train_test_split(X.values, y.values, test_size = 0.3,random_state=24)"
      ]
    },
    {
      "cell_type": "code",
      "execution_count": null,
      "metadata": {
        "id": "B65Fc_CVVSat"
      },
      "outputs": [],
      "source": [
        "scaler_X = MinMaxScaler()\n",
        "scaler_y = MinMaxScaler()\n",
        "X_trn_scl = scaler_X.fit_transform(X_train)\n",
        "y_trn_scl = scaler_y.fit_transform(y_train.reshape(-1,1))\n",
        "X_tst_scl = scaler_X.transform(X_test)\n",
        "y_tst_scl = scaler_y.transform(y_test.reshape(-1,1))"
      ]
    },
    {
      "cell_type": "code",
      "execution_count": null,
      "metadata": {
        "id": "bt_RemTuVjp6"
      },
      "outputs": [],
      "source": [
        "tf.random.set_seed(24)\n",
        "model = tf.keras.models.Sequential([\n",
        "    tf.keras.layers.Dense(14, activation='relu', input_shape=(X_trn_scl.shape[1],)),\n",
        "    tf.keras.layers.Dense(10, activation='relu'),\n",
        "    tf.keras.layers.Dense(1, activation='linear')])\n",
        "\n",
        "model.compile(optimizer=tf.keras.optimizers.RMSprop(),\n",
        "              loss='mean_squared_error',\n",
        "              metrics=['mae'])"
      ]
    },
    {
      "cell_type": "code",
      "execution_count": null,
      "metadata": {
        "id": "ftgn6XPMVjmx"
      },
      "outputs": [],
      "source": [
        "print(model.summary())"
      ]
    },
    {
      "cell_type": "markdown",
      "metadata": {
        "id": "rRG-69O9WPaR"
      },
      "source": [
        "####Early Stopping"
      ]
    },
    {
      "cell_type": "code",
      "execution_count": null,
      "metadata": {
        "id": "u0NXsiBGWJIy"
      },
      "outputs": [],
      "source": [
        "from tensorflow.keras.callbacks import EarlyStopping\n",
        "\n",
        "monitor = EarlyStopping(monitor='val_loss',\n",
        "                        min_delta=0.001,\n",
        "                        patience=20,\n",
        "                        verbose=1,\n",
        "                        restore_best_weights=True)\n",
        "history2 = model.fit(X_trn_scl, y_trn_scl,\n",
        "                     validation_data=(X_tst_scl, y_tst_scl),\n",
        "                     callbacks=[monitor],\n",
        "                     verbose=2,\n",
        "                     epochs=500)\n"
      ]
    },
    {
      "cell_type": "code",
      "execution_count": null,
      "metadata": {
        "id": "ZbuuZNKLWTSR"
      },
      "outputs": [],
      "source": [
        "y_pred_ = model.predict(X_tst_scl)"
      ]
    },
    {
      "cell_type": "code",
      "source": [
        "y_pred_orig = scaler_y.inverse_transform(y_pred_)"
      ],
      "metadata": {
        "id": "ZCH3gAOiPiXs"
      },
      "execution_count": null,
      "outputs": []
    },
    {
      "cell_type": "code",
      "source": [
        "print(f\"y_test shape: {y_test.shape}\")\n",
        "print(f\"y_pred_orig shape: {y_pred_orig.shape}\")"
      ],
      "metadata": {
        "id": "haGc8EqOPmS8"
      },
      "execution_count": null,
      "outputs": []
    },
    {
      "cell_type": "code",
      "execution_count": null,
      "metadata": {
        "id": "NQcljoDYWrYJ"
      },
      "outputs": [],
      "source": [
        "from sklearn.metrics import mean_squared_error, mean_absolute_error, r2_score\n",
        "\n",
        "MSE = mean_squared_error(y_test, y_pred_orig)\n",
        "MAE = mean_absolute_error(y_test, y_pred_orig)\n",
        "r2 = r2_score(y_test, y_pred_orig)"
      ]
    },
    {
      "cell_type": "code",
      "execution_count": null,
      "metadata": {
        "id": "CoUGMOuHWaNx"
      },
      "outputs": [],
      "source": [
        "print(f\"MSE: {MSE}\")\n",
        "print(f\"MAE: {MAE}\")\n",
        "print(f\"R2: {r2}\")"
      ]
    },
    {
      "cell_type": "code",
      "source": [],
      "metadata": {
        "id": "oyC3wlTvHwnr"
      },
      "execution_count": null,
      "outputs": []
    },
    {
      "cell_type": "markdown",
      "source": [
        "##Conclusion\n",
        "\n",
        "####Using PyTorch\n",
        "* RMSprop :\n",
        "            MSE: 0.005153353707856875\n",
        "            MAE: 0.05247591353505907\n",
        "            R2: -0.006395448771884249\n",
        "* SGD :\n",
        "       MSE: 0.005002161577744846\n",
        "       MAE: 0.05136918252524957\n",
        "       R2: 0.023130774394767406\n",
        "\n",
        "####Using TenserFlow\n",
        "* RMSprop :\n",
        "            MSE: 0.0033055019746956694\n",
        "            MAE: 0.04693921633891662\n",
        "            R2: 0.35447044161390406\n",
        "\n",
        "* SGD:\n",
        "      MSE: 0.004058409188259081\n",
        "      MAE: 0.04490980810948505\n",
        "      R2: 0.20743562971607055"
      ],
      "metadata": {
        "id": "V_M9bOrRJdT0"
      }
    },
    {
      "cell_type": "code",
      "source": [],
      "metadata": {
        "id": "5XM7Vug0JfB0"
      },
      "execution_count": null,
      "outputs": []
    }
  ],
  "metadata": {
    "colab": {
      "provenance": [],
      "gpuType": "T4"
    },
    "kernelspec": {
      "display_name": "Python 3",
      "name": "python3"
    },
    "language_info": {
      "name": "python"
    },
    "accelerator": "GPU"
  },
  "nbformat": 4,
  "nbformat_minor": 0
}